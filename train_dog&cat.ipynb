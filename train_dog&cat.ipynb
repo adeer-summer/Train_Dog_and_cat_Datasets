{
 "cells": [
  {
   "cell_type": "code",
   "execution_count": 1,
   "metadata": {},
   "outputs": [],
   "source": [
    "# Train dog & cat dataset\n",
    "import cv2"
   ]
  },
  {
   "cell_type": "code",
   "execution_count": 2,
   "metadata": {},
   "outputs": [],
   "source": [
    "from keras.models import Sequential\n",
    "model=Sequential()"
   ]
  },
  {
   "cell_type": "code",
   "execution_count": 3,
   "metadata": {},
   "outputs": [],
   "source": [
    "from keras.layers import Convolution2D\n"
   ]
  },
  {
   "cell_type": "code",
   "execution_count": 4,
   "metadata": {},
   "outputs": [],
   "source": [
    "model.add(\n",
    "Convolution2D(\n",
    "    filters=32,\n",
    "    kernel_size=(3,3),\n",
    "    input_shape=(64,64,3),\n",
    "    activation='relu'))"
   ]
  },
  {
   "cell_type": "code",
   "execution_count": 5,
   "metadata": {},
   "outputs": [],
   "source": [
    "# Next add Pooling layer\n",
    "from keras.layers import MaxPooling2D"
   ]
  },
  {
   "cell_type": "code",
   "execution_count": 6,
   "metadata": {},
   "outputs": [],
   "source": [
    "model.add(\n",
    "    MaxPooling2D(pool_size=(2,2)))"
   ]
  },
  {
   "cell_type": "code",
   "execution_count": 7,
   "metadata": {},
   "outputs": [
    {
     "data": {
      "text/plain": [
       "{'name': 'sequential',\n",
       " 'layers': [{'class_name': 'InputLayer',\n",
       "   'config': {'batch_input_shape': (None, 64, 64, 3),\n",
       "    'dtype': 'float32',\n",
       "    'sparse': False,\n",
       "    'ragged': False,\n",
       "    'name': 'conv2d_input'}},\n",
       "  {'class_name': 'Conv2D',\n",
       "   'config': {'name': 'conv2d',\n",
       "    'trainable': True,\n",
       "    'batch_input_shape': (None, 64, 64, 3),\n",
       "    'dtype': 'float32',\n",
       "    'filters': 32,\n",
       "    'kernel_size': (3, 3),\n",
       "    'strides': (1, 1),\n",
       "    'padding': 'valid',\n",
       "    'data_format': 'channels_last',\n",
       "    'dilation_rate': (1, 1),\n",
       "    'groups': 1,\n",
       "    'activation': 'relu',\n",
       "    'use_bias': True,\n",
       "    'kernel_initializer': {'class_name': 'GlorotUniform',\n",
       "     'config': {'seed': None}},\n",
       "    'bias_initializer': {'class_name': 'Zeros', 'config': {}},\n",
       "    'kernel_regularizer': None,\n",
       "    'bias_regularizer': None,\n",
       "    'activity_regularizer': None,\n",
       "    'kernel_constraint': None,\n",
       "    'bias_constraint': None}},\n",
       "  {'class_name': 'MaxPooling2D',\n",
       "   'config': {'name': 'max_pooling2d',\n",
       "    'trainable': True,\n",
       "    'dtype': 'float32',\n",
       "    'pool_size': (2, 2),\n",
       "    'padding': 'valid',\n",
       "    'strides': (2, 2),\n",
       "    'data_format': 'channels_last'}}]}"
      ]
     },
     "execution_count": 7,
     "metadata": {},
     "output_type": "execute_result"
    }
   ],
   "source": [
    "model.get_config()"
   ]
  },
  {
   "cell_type": "code",
   "execution_count": 7,
   "metadata": {},
   "outputs": [],
   "source": [
    "#Next add flatten layer\n",
    "from keras.layers import Flatten"
   ]
  },
  {
   "cell_type": "code",
   "execution_count": 8,
   "metadata": {},
   "outputs": [],
   "source": [
    "model.add( Flatten() )"
   ]
  },
  {
   "cell_type": "code",
   "execution_count": 9,
   "metadata": {},
   "outputs": [
    {
     "name": "stdout",
     "output_type": "stream",
     "text": [
      "Model: \"sequential\"\n",
      "_________________________________________________________________\n",
      "Layer (type)                 Output Shape              Param #   \n",
      "=================================================================\n",
      "conv2d (Conv2D)              (None, 62, 62, 32)        896       \n",
      "_________________________________________________________________\n",
      "max_pooling2d (MaxPooling2D) (None, 31, 31, 32)        0         \n",
      "_________________________________________________________________\n",
      "flatten (Flatten)            (None, 30752)             0         \n",
      "=================================================================\n",
      "Total params: 896\n",
      "Trainable params: 896\n",
      "Non-trainable params: 0\n",
      "_________________________________________________________________\n"
     ]
    }
   ],
   "source": [
    "model.summary()"
   ]
  },
  {
   "cell_type": "code",
   "execution_count": 10,
   "metadata": {},
   "outputs": [],
   "source": [
    "from  keras.layers import Dense"
   ]
  },
  {
   "cell_type": "code",
   "execution_count": 11,
   "metadata": {},
   "outputs": [],
   "source": [
    "model.add(\n",
    "    Dense(\n",
    "            units=200,\n",
    "            activation='relu'))"
   ]
  },
  {
   "cell_type": "code",
   "execution_count": 12,
   "metadata": {},
   "outputs": [],
   "source": [
    "model.add(\n",
    "    Dense(\n",
    "            units=200,\n",
    "            activation='relu'))"
   ]
  },
  {
   "cell_type": "code",
   "execution_count": 13,
   "metadata": {},
   "outputs": [],
   "source": [
    "#add classification layer\n",
    "model.add(\n",
    "    Dense(\n",
    "            units=1,\n",
    "            activation='sigmoid'))"
   ]
  },
  {
   "cell_type": "markdown",
   "metadata": {},
   "source": [
    "model.get_config()"
   ]
  },
  {
   "cell_type": "code",
   "execution_count": null,
   "metadata": {},
   "outputs": [],
   "source": [
    "model.get_config()"
   ]
  },
  {
   "cell_type": "code",
   "execution_count": 14,
   "metadata": {},
   "outputs": [],
   "source": [
    "model.compile(optimizer='adam', loss='binary_crossentropy', metrics=['accuracy'])"
   ]
  },
  {
   "cell_type": "code",
   "execution_count": 15,
   "metadata": {},
   "outputs": [],
   "source": [
    "#import imgeprocessing library\n",
    "from keras_preprocessing.image import ImageDataGenerator"
   ]
  },
  {
   "cell_type": "code",
   "execution_count": 16,
   "metadata": {},
   "outputs": [
    {
     "name": "stdout",
     "output_type": "stream",
     "text": [
      "Found 8000 images belonging to 2 classes.\n",
      "Found 2000 images belonging to 2 classes.\n"
     ]
    }
   ],
   "source": [
    "# generate image and train it\n",
    "train_datagen = ImageDataGenerator(\n",
    "        rescale=1./255,\n",
    "        shear_range=0.2,\n",
    "        zoom_range=0.2,\n",
    "        horizontal_flip=True)\n",
    "\n",
    "test_datagen = ImageDataGenerator(rescale=1./255)\n",
    "\n",
    "train_generator = train_datagen.flow_from_directory(\n",
    "        '/home/tcarters/Desktop/Summer/dataset/training_set/',\n",
    "        target_size=(64, 64),  #bcz we already define this size in convolu layer\n",
    "        batch_size=1,\n",
    "        class_mode='binary')\n",
    "\n",
    "#Testing data=validation\n",
    "validation_generator = test_datagen.flow_from_directory(\n",
    "        '/home/tcarters/Desktop/Summer/dataset/test_set/',\n",
    "        target_size=(64, 64),\n",
    "        batch_size=1,\n",
    "        class_mode='binary')\n"
   ]
  },
  {
   "cell_type": "code",
   "execution_count": 57,
   "metadata": {},
   "outputs": [
    {
     "name": "stdout",
     "output_type": "stream",
     "text": [
      "Epoch 1/100\n",
      "8000/8000 [==============================] - 288s 36ms/step - loss: 0.1575 - accuracy: 0.9563 - val_loss: 2.0246 - val_accuracy: 0.5000\n",
      "Epoch 2/100\n",
      "8000/8000 [==============================] - 368s 46ms/step - loss: 0.1365 - accuracy: 0.9589 - val_loss: 0.3550 - val_accuracy: 1.0000\n",
      "Epoch 3/100\n",
      "8000/8000 [==============================] - 339s 42ms/step - loss: 0.1482 - accuracy: 0.9582 - val_loss: 2.9338 - val_accuracy: 0.5000\n",
      "Epoch 4/100\n",
      "8000/8000 [==============================] - 353s 44ms/step - loss: 0.1375 - accuracy: 0.9591 - val_loss: 0.0136 - val_accuracy: 1.0000\n",
      "Epoch 5/100\n",
      "8000/8000 [==============================] - 343s 43ms/step - loss: 0.1162 - accuracy: 0.9616 - val_loss: 3.8831e-05 - val_accuracy: 1.0000\n",
      "Epoch 6/100\n",
      "8000/8000 [==============================] - 346s 43ms/step - loss: 0.1303 - accuracy: 0.9600 - val_loss: 4.4474 - val_accuracy: 0.5000\n",
      "Epoch 7/100\n",
      "8000/8000 [==============================] - 322s 40ms/step - loss: 0.2107 - accuracy: 0.9455 - val_loss: 1.4730 - val_accuracy: 0.5000\n",
      "Epoch 8/100\n",
      "8000/8000 [==============================] - 318s 40ms/step - loss: 0.2214 - accuracy: 0.9576 - val_loss: 0.1271 - val_accuracy: 1.0000\n",
      "Epoch 9/100\n",
      "8000/8000 [==============================] - 375s 47ms/step - loss: 0.1342 - accuracy: 0.9575 - val_loss: 0.0110 - val_accuracy: 1.0000\n",
      "Epoch 10/100\n",
      "8000/8000 [==============================] - 501s 63ms/step - loss: 0.1713 - accuracy: 0.9554 - val_loss: 2.8787 - val_accuracy: 0.0000e+00\n",
      "Epoch 11/100\n",
      "8000/8000 [==============================] - 559s 70ms/step - loss: 0.1762 - accuracy: 0.9603 - val_loss: 1.8721 - val_accuracy: 0.5000\n",
      "Epoch 12/100\n",
      "8000/8000 [==============================] - 364s 45ms/step - loss: 0.1361 - accuracy: 0.9605 - val_loss: 1.6477e-05 - val_accuracy: 1.0000\n",
      "Epoch 13/100\n",
      "8000/8000 [==============================] - 358s 45ms/step - loss: 0.1286 - accuracy: 0.9620 - val_loss: 0.3757 - val_accuracy: 0.5000\n",
      "Epoch 14/100\n",
      "8000/8000 [==============================] - 328s 41ms/step - loss: 0.1431 - accuracy: 0.9632 - val_loss: 3.4506e-05 - val_accuracy: 1.0000\n",
      "Epoch 15/100\n",
      "8000/8000 [==============================] - 395s 49ms/step - loss: 0.1314 - accuracy: 0.9616 - val_loss: 23.1163 - val_accuracy: 0.5000\n",
      "Epoch 16/100\n",
      "8000/8000 [==============================] - 246s 31ms/step - loss: 0.1318 - accuracy: 0.9631 - val_loss: 1.7266 - val_accuracy: 0.5000\n",
      "Epoch 17/100\n",
      "8000/8000 [==============================] - 240s 30ms/step - loss: 0.1181 - accuracy: 0.9635 - val_loss: 0.6873 - val_accuracy: 0.5000\n",
      "Epoch 18/100\n",
      "8000/8000 [==============================] - 280s 35ms/step - loss: 0.1550 - accuracy: 0.9582 - val_loss: 0.0010 - val_accuracy: 1.0000\n",
      "Epoch 19/100\n",
      "8000/8000 [==============================] - 288s 36ms/step - loss: 0.1341 - accuracy: 0.9603 - val_loss: 1.9057 - val_accuracy: 0.5000\n",
      "Epoch 20/100\n",
      "8000/8000 [==============================] - 287s 36ms/step - loss: 0.1276 - accuracy: 0.9636 - val_loss: 1.8911 - val_accuracy: 0.5000\n",
      "Epoch 21/100\n",
      "8000/8000 [==============================] - 286s 36ms/step - loss: 0.1384 - accuracy: 0.9606 - val_loss: 1.9243 - val_accuracy: 0.5000\n",
      "Epoch 22/100\n",
      "8000/8000 [==============================] - 275s 34ms/step - loss: 0.1030 - accuracy: 0.9693 - val_loss: 0.0463 - val_accuracy: 1.0000\n",
      "Epoch 23/100\n",
      "8000/8000 [==============================] - 250s 31ms/step - loss: 0.1223 - accuracy: 0.9634 - val_loss: 1.9334 - val_accuracy: 0.5000\n",
      "Epoch 24/100\n",
      "8000/8000 [==============================] - 263s 33ms/step - loss: 0.2094 - accuracy: 0.9498 - val_loss: 0.7070 - val_accuracy: 0.5000\n",
      "Epoch 25/100\n",
      "8000/8000 [==============================] - 267s 33ms/step - loss: 0.1427 - accuracy: 0.9641 - val_loss: 15.4010 - val_accuracy: 0.5000\n",
      "Epoch 26/100\n",
      "8000/8000 [==============================] - 258s 32ms/step - loss: 0.1111 - accuracy: 0.9688 - val_loss: 4.3240e-05 - val_accuracy: 1.0000\n",
      "Epoch 27/100\n",
      "8000/8000 [==============================] - 256s 32ms/step - loss: 0.1272 - accuracy: 0.9634 - val_loss: 0.0101 - val_accuracy: 1.0000\n",
      "Epoch 28/100\n",
      "8000/8000 [==============================] - 274s 34ms/step - loss: 0.1334 - accuracy: 0.9631 - val_loss: 1.8677e-06 - val_accuracy: 1.0000\n",
      "Epoch 29/100\n",
      "8000/8000 [==============================] - 396s 50ms/step - loss: 0.1167 - accuracy: 0.9653 - val_loss: 1.9573 - val_accuracy: 0.5000\n",
      "Epoch 30/100\n",
      "8000/8000 [==============================] - 376s 47ms/step - loss: 0.1134 - accuracy: 0.9639 - val_loss: 0.0102 - val_accuracy: 1.0000\n",
      "Epoch 31/100\n",
      "8000/8000 [==============================] - 359s 45ms/step - loss: 0.1103 - accuracy: 0.9664 - val_loss: 2.0001 - val_accuracy: 0.5000\n",
      "Epoch 32/100\n",
      "8000/8000 [==============================] - 334s 42ms/step - loss: 0.1103 - accuracy: 0.9649 - val_loss: 0.0176 - val_accuracy: 1.0000\n",
      "Epoch 33/100\n",
      "8000/8000 [==============================] - 379s 47ms/step - loss: 0.1390 - accuracy: 0.9597 - val_loss: 2.3083 - val_accuracy: 0.5000\n",
      "Epoch 34/100\n",
      "8000/8000 [==============================] - 366s 46ms/step - loss: 0.1153 - accuracy: 0.9669 - val_loss: 11.6187 - val_accuracy: 0.0000e+00\n",
      "Epoch 35/100\n",
      "8000/8000 [==============================] - 356s 45ms/step - loss: 0.1453 - accuracy: 0.9628 - val_loss: 0.0105 - val_accuracy: 1.0000\n",
      "Epoch 36/100\n",
      "8000/8000 [==============================] - 350s 44ms/step - loss: 0.1125 - accuracy: 0.9697 - val_loss: 0.0188 - val_accuracy: 1.0000\n",
      "Epoch 37/100\n",
      "8000/8000 [==============================] - 349s 44ms/step - loss: 0.1162 - accuracy: 0.9678 - val_loss: 1.5977 - val_accuracy: 0.5000\n",
      "Epoch 38/100\n",
      "8000/8000 [==============================] - 328s 41ms/step - loss: 0.1297 - accuracy: 0.9691 - val_loss: 2.0255 - val_accuracy: 0.5000\n",
      "Epoch 39/100\n",
      "8000/8000 [==============================] - 351s 44ms/step - loss: 0.1054 - accuracy: 0.9691 - val_loss: 0.0100 - val_accuracy: 1.0000\n",
      "Epoch 40/100\n",
      "8000/8000 [==============================] - 314s 39ms/step - loss: 0.1121 - accuracy: 0.9680 - val_loss: 0.0135 - val_accuracy: 1.0000\n",
      "Epoch 41/100\n",
      "8000/8000 [==============================] - 242s 30ms/step - loss: 0.3520 - accuracy: 0.9590 - val_loss: 0.0523 - val_accuracy: 1.0000\n",
      "Epoch 42/100\n",
      "8000/8000 [==============================] - 245s 31ms/step - loss: 0.1140 - accuracy: 0.9691 - val_loss: 0.0775 - val_accuracy: 1.0000\n",
      "Epoch 43/100\n",
      "8000/8000 [==============================] - 242s 30ms/step - loss: 0.1409 - accuracy: 0.9632 - val_loss: 1.9441 - val_accuracy: 0.5000\n",
      "Epoch 44/100\n",
      "8000/8000 [==============================] - 242s 30ms/step - loss: 0.1039 - accuracy: 0.9669 - val_loss: 0.6408 - val_accuracy: 0.5000\n",
      "Epoch 45/100\n",
      "8000/8000 [==============================] - ETA: 0s - loss: 0.1368 - accuracy: 0.96 - 242s 30ms/step - loss: 0.1368 - accuracy: 0.9649 - val_loss: 1.6155e-15 - val_accuracy: 1.0000\n",
      "Epoch 46/100\n",
      "8000/8000 [==============================] - 242s 30ms/step - loss: 0.2100 - accuracy: 0.9632 - val_loss: 3.4252 - val_accuracy: 0.5000\n",
      "Epoch 47/100\n",
      "8000/8000 [==============================] - 248s 31ms/step - loss: 0.1396 - accuracy: 0.9592 - val_loss: 1.9393 - val_accuracy: 0.5000\n",
      "Epoch 48/100\n",
      "8000/8000 [==============================] - 244s 30ms/step - loss: 0.1105 - accuracy: 0.9665 - val_loss: 1.4987 - val_accuracy: 0.5000\n",
      "Epoch 49/100\n",
      "8000/8000 [==============================] - 242s 30ms/step - loss: 0.1984 - accuracy: 0.9639 - val_loss: 0.0101 - val_accuracy: 1.0000\n",
      "Epoch 50/100\n",
      "8000/8000 [==============================] - 239s 30ms/step - loss: 0.0960 - accuracy: 0.9724 - val_loss: 0.0097 - val_accuracy: 1.0000\n",
      "Epoch 51/100\n",
      "8000/8000 [==============================] - 244s 31ms/step - loss: 0.1174 - accuracy: 0.9674 - val_loss: 0.0112 - val_accuracy: 1.0000\n",
      "Epoch 52/100\n",
      "8000/8000 [==============================] - 245s 31ms/step - loss: 0.0977 - accuracy: 0.9695 - val_loss: 4.0226 - val_accuracy: 0.0000e+00\n",
      "Epoch 53/100\n",
      "8000/8000 [==============================] - 244s 31ms/step - loss: 0.1168 - accuracy: 0.9691 - val_loss: 0.0091 - val_accuracy: 1.0000\n",
      "Epoch 54/100\n",
      "8000/8000 [==============================] - 250s 31ms/step - loss: 0.1208 - accuracy: 0.9679 - val_loss: 1.6804 - val_accuracy: 0.5000\n",
      "Epoch 55/100\n"
     ]
    },
    {
     "name": "stdout",
     "output_type": "stream",
     "text": [
      "8000/8000 [==============================] - 246s 31ms/step - loss: 0.1342 - accuracy: 0.9613 - val_loss: 8.4723 - val_accuracy: 0.5000\n",
      "Epoch 56/100\n",
      "8000/8000 [==============================] - 244s 30ms/step - loss: 0.0917 - accuracy: 0.9703 - val_loss: 14.9640 - val_accuracy: 0.5000\n",
      "Epoch 57/100\n",
      "8000/8000 [==============================] - 244s 30ms/step - loss: 0.1786 - accuracy: 0.9669 - val_loss: 0.0389 - val_accuracy: 1.0000\n",
      "Epoch 58/100\n",
      "8000/8000 [==============================] - 252s 31ms/step - loss: 0.0938 - accuracy: 0.9729 - val_loss: 10.2645 - val_accuracy: 0.5000\n",
      "Epoch 59/100\n",
      "8000/8000 [==============================] - 302s 38ms/step - loss: 0.1226 - accuracy: 0.9674 - val_loss: 105.4365 - val_accuracy: 0.5000\n",
      "Epoch 60/100\n",
      "8000/8000 [==============================] - 229s 29ms/step - loss: 0.2605 - accuracy: 0.9665 - val_loss: 2.3313 - val_accuracy: 0.5000\n",
      "Epoch 61/100\n",
      "8000/8000 [==============================] - 240s 30ms/step - loss: 0.0918 - accuracy: 0.9729 - val_loss: 1.3037 - val_accuracy: 0.5000\n",
      "Epoch 62/100\n",
      "8000/8000 [==============================] - 230s 29ms/step - loss: 0.1746 - accuracy: 0.9603 - val_loss: 0.0213 - val_accuracy: 1.0000\n",
      "Epoch 63/100\n",
      "8000/8000 [==============================] - 232s 29ms/step - loss: 0.1910 - accuracy: 0.9649 - val_loss: 0.2332 - val_accuracy: 1.0000\n",
      "Epoch 64/100\n",
      "8000/8000 [==============================] - 243s 30ms/step - loss: 0.1182 - accuracy: 0.9676 - val_loss: 1.7664 - val_accuracy: 0.5000\n",
      "Epoch 65/100\n",
      "8000/8000 [==============================] - 243s 30ms/step - loss: 0.1282 - accuracy: 0.9681 - val_loss: 1.9617 - val_accuracy: 0.5000\n",
      "Epoch 66/100\n",
      "8000/8000 [==============================] - 244s 31ms/step - loss: 0.1394 - accuracy: 0.9670 - val_loss: 1.9630 - val_accuracy: 0.5000\n",
      "Epoch 67/100\n",
      "8000/8000 [==============================] - 257s 32ms/step - loss: 0.1137 - accuracy: 0.9676 - val_loss: 0.0198 - val_accuracy: 1.0000\n",
      "Epoch 68/100\n",
      "8000/8000 [==============================] - 255s 32ms/step - loss: 0.0930 - accuracy: 0.9729 - val_loss: 3.6284e-10 - val_accuracy: 1.0000\n",
      "Epoch 69/100\n",
      "8000/8000 [==============================] - 270s 34ms/step - loss: 0.1255 - accuracy: 0.9679 - val_loss: 1.2223 - val_accuracy: 0.5000\n",
      "Epoch 70/100\n",
      "8000/8000 [==============================] - 260s 33ms/step - loss: 0.0932 - accuracy: 0.9745 - val_loss: 0.0176 - val_accuracy: 1.0000\n",
      "Epoch 71/100\n",
      "8000/8000 [==============================] - 304s 38ms/step - loss: 0.1871 - accuracy: 0.9625 - val_loss: 4.6387e-10 - val_accuracy: 1.0000\n",
      "Epoch 72/100\n",
      "8000/8000 [==============================] - 317s 40ms/step - loss: 0.1030 - accuracy: 0.9729 - val_loss: 2.0271 - val_accuracy: 0.5000\n",
      "Epoch 73/100\n",
      "8000/8000 [==============================] - 314s 39ms/step - loss: 0.0971 - accuracy: 0.9725 - val_loss: 3.1955 - val_accuracy: 0.5000\n",
      "Epoch 74/100\n",
      "8000/8000 [==============================] - 335s 42ms/step - loss: 0.0839 - accuracy: 0.9758 - val_loss: 29.7146 - val_accuracy: 0.5000\n",
      "Epoch 75/100\n",
      "8000/8000 [==============================] - 364s 46ms/step - loss: 0.1505 - accuracy: 0.9664 - val_loss: 5.6712 - val_accuracy: 0.5000\n",
      "Epoch 76/100\n",
      "8000/8000 [==============================] - 317s 40ms/step - loss: 0.0897 - accuracy: 0.9744 - val_loss: 3.5878 - val_accuracy: 0.5000\n",
      "Epoch 77/100\n",
      "8000/8000 [==============================] - 261s 33ms/step - loss: 0.1010 - accuracy: 0.9737 - val_loss: 5.9172e-06 - val_accuracy: 1.0000\n",
      "Epoch 78/100\n",
      "8000/8000 [==============================] - 316s 39ms/step - loss: 0.1385 - accuracy: 0.9680 - val_loss: 2.0576 - val_accuracy: 0.5000\n",
      "Epoch 79/100\n",
      "8000/8000 [==============================] - 306s 38ms/step - loss: 0.2530 - accuracy: 0.9500 - val_loss: 0.0102 - val_accuracy: 1.0000\n",
      "Epoch 80/100\n",
      "8000/8000 [==============================] - 334s 42ms/step - loss: 0.1066 - accuracy: 0.9730 - val_loss: 1.4739 - val_accuracy: 0.5000\n",
      "Epoch 81/100\n",
      "8000/8000 [==============================] - 315s 39ms/step - loss: 0.1131 - accuracy: 0.9694 - val_loss: 0.2508 - val_accuracy: 1.0000\n",
      "Epoch 82/100\n",
      "8000/8000 [==============================] - 287s 36ms/step - loss: 0.1390 - accuracy: 0.9680 - val_loss: 12.1806 - val_accuracy: 0.5000\n",
      "Epoch 83/100\n",
      "8000/8000 [==============================] - 258s 32ms/step - loss: 0.1125 - accuracy: 0.9674 - val_loss: 2.6529 - val_accuracy: 0.5000\n",
      "Epoch 84/100\n",
      "8000/8000 [==============================] - 252s 32ms/step - loss: 0.1115 - accuracy: 0.9699 - val_loss: 6.1018 - val_accuracy: 0.0000e+00\n",
      "Epoch 85/100\n",
      "8000/8000 [==============================] - 239s 30ms/step - loss: 0.1467 - accuracy: 0.9721 - val_loss: 2.0040 - val_accuracy: 0.5000\n",
      "Epoch 86/100\n",
      "8000/8000 [==============================] - 233s 29ms/step - loss: 0.2331 - accuracy: 0.9520 - val_loss: 3.7726 - val_accuracy: 0.5000\n",
      "Epoch 87/100\n",
      " 651/8000 [=>............................] - ETA: 3:37 - loss: 0.0758 - accuracy: 0.9770"
     ]
    },
    {
     "name": "stderr",
     "output_type": "stream",
     "text": [
      "IOPub message rate exceeded.\n",
      "The notebook server will temporarily stop sending output\n",
      "to the client in order to avoid crashing it.\n",
      "To change this limit, set the config variable\n",
      "`--NotebookApp.iopub_msg_rate_limit`.\n",
      "\n",
      "Current values:\n",
      "NotebookApp.iopub_msg_rate_limit=1000.0 (msgs/sec)\n",
      "NotebookApp.rate_limit_window=3.0 (secs)\n",
      "\n"
     ]
    },
    {
     "name": "stdout",
     "output_type": "stream",
     "text": [
      "8000/8000 [==============================] - 240s 30ms/step - loss: 0.1817 - accuracy: 0.9685 - val_loss: 0.0584 - val_accuracy: 1.0000\n",
      "Epoch 88/100\n",
      "8000/8000 [==============================] - 242s 30ms/step - loss: 0.1149 - accuracy: 0.9689 - val_loss: 6.0769 - val_accuracy: 0.5000\n",
      "Epoch 89/100\n",
      "8000/8000 [==============================] - 247s 31ms/step - loss: 0.1361 - accuracy: 0.9716 - val_loss: 8.0374 - val_accuracy: 0.5000\n",
      "Epoch 90/100\n",
      "8000/8000 [==============================] - 239s 30ms/step - loss: 0.1126 - accuracy: 0.9699 - val_loss: 2.2877 - val_accuracy: 0.5000\n",
      "Epoch 91/100\n",
      "8000/8000 [==============================] - 242s 30ms/step - loss: 0.1208 - accuracy: 0.9670 - val_loss: 0.0192 - val_accuracy: 1.0000\n",
      "Epoch 92/100\n",
      "8000/8000 [==============================] - 256s 32ms/step - loss: 0.1144 - accuracy: 0.9681 - val_loss: 5.4959 - val_accuracy: 0.5000\n",
      "Epoch 93/100\n",
      "8000/8000 [==============================] - 245s 31ms/step - loss: 0.0902 - accuracy: 0.9729 - val_loss: 0.0090 - val_accuracy: 1.0000\n",
      "Epoch 94/100\n",
      "8000/8000 [==============================] - 244s 31ms/step - loss: 0.1297 - accuracy: 0.9706 - val_loss: 4.4475 - val_accuracy: 0.5000\n",
      "Epoch 95/100\n",
      "8000/8000 [==============================] - 235s 29ms/step - loss: 0.1122 - accuracy: 0.9706 - val_loss: 3.5907 - val_accuracy: 0.5000\n",
      "Epoch 96/100\n",
      "8000/8000 [==============================] - 275s 34ms/step - loss: 0.0921 - accuracy: 0.9755 - val_loss: 2.2948 - val_accuracy: 0.5000\n",
      "Epoch 97/100\n",
      "8000/8000 [==============================] - 316s 39ms/step - loss: 0.1249 - accuracy: 0.9706 - val_loss: 10.4482 - val_accuracy: 0.5000\n",
      "Epoch 98/100\n",
      "8000/8000 [==============================] - 259s 32ms/step - loss: 0.0995 - accuracy: 0.9719 - val_loss: 6.2559e-18 - val_accuracy: 1.0000\n",
      "Epoch 99/100\n",
      "8000/8000 [==============================] - 267s 33ms/step - loss: 0.1121 - accuracy: 0.9691 - val_loss: 1.0003 - val_accuracy: 0.5000\n",
      "Epoch 100/100\n",
      "8000/8000 [==============================] - 248s 31ms/step - loss: 0.1850 - accuracy: 0.9607 - val_loss: 5.3060 - val_accuracy: 0.5000\n"
     ]
    },
    {
     "data": {
      "text/plain": [
       "<tensorflow.python.keras.callbacks.History at 0x7f0c7767c650>"
      ]
     },
     "execution_count": 57,
     "metadata": {},
     "output_type": "execute_result"
    }
   ],
   "source": [
    "# fit our model\n",
    "model.fit(\n",
    "        train_generator, # is X\n",
    "        steps_per_epoch=8000,\n",
    "        epochs=100,\n",
    "        validation_data=validation_generator, #at same time test data for accuracy\n",
    "        validation_steps=2)\n"
   ]
  },
  {
   "cell_type": "code",
   "execution_count": null,
   "metadata": {},
   "outputs": [],
   "source": []
  },
  {
   "cell_type": "code",
   "execution_count": 58,
   "metadata": {},
   "outputs": [],
   "source": [
    "#Saving my model in a file\n",
    "#model.save('trained-cat.h5')\n",
    "model.save('trained-dog&cat.h5')"
   ]
  },
  {
   "cell_type": "code",
   "execution_count": 17,
   "metadata": {},
   "outputs": [],
   "source": [
    "#load our saved model\n",
    "from keras.models import load_model"
   ]
  },
  {
   "cell_type": "code",
   "execution_count": 18,
   "metadata": {},
   "outputs": [],
   "source": [
    "new_model = load_model('trained-dog&cat.h5')"
   ]
  },
  {
   "cell_type": "code",
   "execution_count": 19,
   "metadata": {},
   "outputs": [],
   "source": [
    "# import image module\n",
    "from keras.preprocessing import image"
   ]
  },
  {
   "cell_type": "code",
   "execution_count": 59,
   "metadata": {},
   "outputs": [],
   "source": [
    "test_img = image.load_img('cat3.jpeg', target_size=(64,64))"
   ]
  },
  {
   "cell_type": "code",
   "execution_count": null,
   "metadata": {},
   "outputs": [],
   "source": []
  },
  {
   "cell_type": "code",
   "execution_count": 60,
   "metadata": {
    "scrolled": true
   },
   "outputs": [
    {
     "data": {
      "text/plain": [
       "PIL.Image.Image"
      ]
     },
     "execution_count": 60,
     "metadata": {},
     "output_type": "execute_result"
    }
   ],
   "source": [
    "type( test_img )"
   ]
  },
  {
   "cell_type": "code",
   "execution_count": 61,
   "metadata": {},
   "outputs": [],
   "source": [
    "# convert a jpg image format into 3d array through keras module 'image'\n",
    "test_img_arr = image.img_to_array(test_img)"
   ]
  },
  {
   "cell_type": "code",
   "execution_count": 62,
   "metadata": {},
   "outputs": [
    {
     "data": {
      "text/plain": [
       "(64, 64, 3)"
      ]
     },
     "execution_count": 62,
     "metadata": {},
     "output_type": "execute_result"
    }
   ],
   "source": [
    "test_img_arr.shape"
   ]
  },
  {
   "cell_type": "code",
   "execution_count": 63,
   "metadata": {},
   "outputs": [],
   "source": [
    "# Convert our 3D image to 4D for model prediction\n",
    "import numpy\n",
    "\n",
    "test_img_arr_4d  =    numpy.expand_dims(test_img_arr, axis=0)"
   ]
  },
  {
   "cell_type": "code",
   "execution_count": 64,
   "metadata": {},
   "outputs": [
    {
     "data": {
      "text/plain": [
       "(1, 64, 64, 3)"
      ]
     },
     "execution_count": 64,
     "metadata": {},
     "output_type": "execute_result"
    }
   ],
   "source": [
    "test_img_arr_4d.shape"
   ]
  },
  {
   "cell_type": "code",
   "execution_count": null,
   "metadata": {},
   "outputs": [],
   "source": []
  },
  {
   "cell_type": "code",
   "execution_count": 65,
   "metadata": {},
   "outputs": [
    {
     "name": "stdout",
     "output_type": "stream",
     "text": [
      "dog\n"
     ]
    }
   ],
   "source": [
    "# Predict if our image is a dog or cat\n",
    "\n",
    "# if answer is 1 so it is dog but if 0 it's cat\n",
    "result =  new_model.predict(test_img_arr_4d)\n",
    "\n"
   ]
  },
  {
   "cell_type": "code",
   "execution_count": null,
   "metadata": {},
   "outputs": [],
   "source": [
    "if result[0][0] <= 0:\n",
    "    predict = 'cat'\n",
    "else:\n",
    "    predict = 'dog'\n",
    "    \n",
    "print(predict)"
   ]
  },
  {
   "cell_type": "code",
   "execution_count": 66,
   "metadata": {},
   "outputs": [
    {
     "data": {
      "text/plain": [
       "1.0"
      ]
     },
     "execution_count": 66,
     "metadata": {},
     "output_type": "execute_result"
    }
   ],
   "source": [
    "result[0][0]"
   ]
  },
  {
   "cell_type": "code",
   "execution_count": null,
   "metadata": {},
   "outputs": [],
   "source": [
    "#steps_per_epoch = len(X_train)//batch_size \n",
    "# so X_train = train_generator   and     \n",
    "#validation_steps = len(X_test)//batch_size # if you have test data\n",
    "\n",
    "#len(train_generator) // 32"
   ]
  }
 ],
 "metadata": {
  "kernelspec": {
   "display_name": "Python 3",
   "language": "python",
   "name": "python3"
  },
  "language_info": {
   "codemirror_mode": {
    "name": "ipython",
    "version": 3
   },
   "file_extension": ".py",
   "mimetype": "text/x-python",
   "name": "python",
   "nbconvert_exporter": "python",
   "pygments_lexer": "ipython3",
   "version": "3.7.6"
  }
 },
 "nbformat": 4,
 "nbformat_minor": 5
}
